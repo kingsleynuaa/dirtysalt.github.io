{
 "cells": [
  {
   "cell_type": "markdown",
   "metadata": {},
   "source": [
    "获取题目列表。这个过程是半自动的：首先需要登录oj.leetcode.com, 选择\"all rows per page\"。在浏览器里面选择\"检查\" -> \"body\" -> copy outerHTML, 将html粘贴到/tmp/note这个文件里面，之后运行下面函数就可以得到这页所有的题目"
   ]
  },
  {
   "cell_type": "code",
   "execution_count": 13,
   "metadata": {
    "collapsed": true
   },
   "outputs": [],
   "source": [
    "def get_problems():\n",
    "    from bs4 import BeautifulSoup\n",
    "    bs = BeautifulSoup(open('/tmp/note').read())\n",
    "    xs = bs.select('#question-app > div > div > div > table > tbody.reactable-data > tr > td > div > a')\n",
    "    xs2 = map(lambda x: x.attrs['href'][len('/problems/'):], xs)\n",
    "    with open('problems.txt', 'w') as fh:\n",
    "        fh.writelines(map(lambda x: x + '\\n', xs2))\n",
    "    print 'written #%d problems.' % len(xs2)"
   ]
  },
  {
   "cell_type": "code",
   "execution_count": 14,
   "metadata": {
    "collapsed": false
   },
   "outputs": [
    {
     "name": "stdout",
     "output_type": "stream",
     "text": [
      "written #417 problems.\n"
     ]
    }
   ],
   "source": [
    "get_problems()"
   ]
  },
  {
   "cell_type": "markdown",
   "metadata": {},
   "source": [
    "下面这个函数用来检查当前完成的进度（返回未完成的题目）"
   ]
  },
  {
   "cell_type": "code",
   "execution_count": 1,
   "metadata": {
    "collapsed": true
   },
   "outputs": [],
   "source": [
    "def check_status():\n",
    "     import os\n",
    "     ps = filter(lambda x: x, map(lambda x: x.strip(),open('problems.txt').readlines()))\n",
    "     ps2 = filter(lambda x: not os.path.exists(x[1] + '.py'), enumerate(ps))\n",
    "     # print ps2[:10]\n",
    "     return ps2"
   ]
  },
  {
   "cell_type": "code",
   "execution_count": 2,
   "metadata": {
    "collapsed": false
   },
   "outputs": [
    {
     "data": {
      "text/plain": [
       "[(150, 'reverse-words-in-a-string'),\n",
       " (151, 'maximum-product-subarray'),\n",
       " (152, 'find-minimum-in-rotated-sorted-array'),\n",
       " (153, 'find-minimum-in-rotated-sorted-array-ii'),\n",
       " (154, 'min-stack'),\n",
       " (155, 'binary-tree-upside-down'),\n",
       " (156, 'read-n-characters-given-read4'),\n",
       " (157, 'read-n-characters-given-read4-ii-call-multiple-times'),\n",
       " (158, 'longest-substring-with-at-most-two-distinct-characters'),\n",
       " (159, 'intersection-of-two-linked-lists')]"
      ]
     },
     "execution_count": 2,
     "metadata": {},
     "output_type": "execute_result"
    }
   ],
   "source": [
    "ps = check_status()\n",
    "ps[:10]"
   ]
  }
 ],
 "metadata": {
  "kernelspec": {
   "display_name": "Python 2",
   "language": "python",
   "name": "python2"
  },
  "language_info": {
   "codemirror_mode": {
    "name": "ipython",
    "version": 2
   },
   "file_extension": ".py",
   "mimetype": "text/x-python",
   "name": "python",
   "nbconvert_exporter": "python",
   "pygments_lexer": "ipython2",
   "version": "2.7.10"
  }
 },
 "nbformat": 4,
 "nbformat_minor": 1
}
